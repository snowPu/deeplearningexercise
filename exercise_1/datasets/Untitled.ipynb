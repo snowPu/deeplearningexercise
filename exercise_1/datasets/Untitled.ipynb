{
 "cells": [
  {
   "cell_type": "code",
   "execution_count": 51,
   "metadata": {},
   "outputs": [
    {
     "name": "stdout",
     "output_type": "stream",
     "text": [
      "[6 7 8]\n",
      "---\n",
      "3\n",
      "[1 9 6]\n"
     ]
    }
   ],
   "source": [
    "import numpy as np\n",
    "x = np.zeros((2,3,4))\n",
    "#print(x)\n",
    "#print(np.shape(x))\n",
    "y = np.array([1,4,5])\n",
    "z = np.array([[1,4,5],[7,8,9]])\n",
    "q = np.array([[1],[4],[5]])\n",
    "#print(np.shape(y))\n",
    "#print(np.shape(z))\n",
    "#print(np.shape(q))\n",
    "#print (z)\n",
    "np.reshape(z,6)\n",
    "#print(np.random.randn(10,5))\n",
    "\n",
    "a = np.array([6,7,8])\n",
    "b = np.array([[1,3],[5,6],[7,8]])\n",
    "print(a)\n",
    "print(\"---\")\n",
    "\"\"\"\n",
    "print (a[:,None])\n",
    "print(\"---\")\n",
    "print (b[:,None])\n",
    "print(\"---\")\n",
    "print (a[None,:])\n",
    "print(\"---\")\n",
    "print (b[None,:])\n",
    "\"\"\"\n",
    "\n",
    "hello = [1,2,4]\n",
    "hello = np.append(hello, 6)\n",
    "#print (hello)\n",
    "\n",
    "hey = np.array([[1,3,4], [7,8,9], [5,6,7]])\n",
    "hi = np.array([0,2,1])\n",
    "print (len(hey))\n",
    "print (hey[np.arange(len(hey)),hi])"
   ]
  },
  {
   "cell_type": "code",
   "execution_count": null,
   "metadata": {
    "collapsed": true
   },
   "outputs": [],
   "source": []
  },
  {
   "cell_type": "code",
   "execution_count": null,
   "metadata": {
    "collapsed": true
   },
   "outputs": [],
   "source": []
  }
 ],
 "metadata": {
  "kernelspec": {
   "display_name": "Python 3",
   "language": "python",
   "name": "python3"
  },
  "language_info": {
   "codemirror_mode": {
    "name": "ipython",
    "version": 3
   },
   "file_extension": ".py",
   "mimetype": "text/x-python",
   "name": "python",
   "nbconvert_exporter": "python",
   "pygments_lexer": "ipython3",
   "version": "3.6.3"
  }
 },
 "nbformat": 4,
 "nbformat_minor": 2
}
